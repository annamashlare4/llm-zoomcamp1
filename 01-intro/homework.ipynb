{
 "cells": [
  {
   "cell_type": "code",
   "execution_count": null,
   "id": "242a1c35-bf33-4382-abef-e1dbe26dc0cc",
   "metadata": {},
   "outputs": [],
   "source": []
  }
 ],
 "metadata": {
  "kernelspec": {
   "display_name": "",
   "name": ""
  },
  "language_info": {
   "name": ""
  }
 },
 "nbformat": 4,
 "nbformat_minor": 5
}
